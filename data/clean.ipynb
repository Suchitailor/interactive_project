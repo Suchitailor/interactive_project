{
 "cells": [
  {
   "cell_type": "code",
   "execution_count": 7,
   "metadata": {},
   "outputs": [],
   "source": [
    "import polars as pl\n",
    "import polars.selectors as cs"
   ]
  },
  {
   "cell_type": "code",
   "execution_count": 38,
   "metadata": {},
   "outputs": [
    {
     "ename": "ColumnNotFoundError",
     "evalue": "\"len\" not found",
     "output_type": "error",
     "traceback": [
      "\u001b[0;31m---------------------------------------------------------------------------\u001b[0m",
      "\u001b[0;31mColumnNotFoundError\u001b[0m                       Traceback (most recent call last)",
      "Cell \u001b[0;32mIn[38], line 5\u001b[0m\n\u001b[1;32m      1\u001b[0m disasters \u001b[39m=\u001b[39m pl\u001b[39m.\u001b[39mread_csv(\u001b[39m\"\u001b[39m\u001b[39m1970-2021_DISASTERS.csv\u001b[39m\u001b[39m\"\u001b[39m, ignore_errors\u001b[39m=\u001b[39m\u001b[39mTrue\u001b[39;00m)\u001b[39m.\u001b[39mrename(\n\u001b[1;32m      2\u001b[0m         {\u001b[39m\"\u001b[39m\u001b[39mDisaster Type\u001b[39m\u001b[39m\"\u001b[39m : \u001b[39m\"\u001b[39m\u001b[39mdisasterType\u001b[39m\u001b[39m\"\u001b[39m})\n\u001b[1;32m      4\u001b[0m \u001b[39m# group least frequent disaster types into \"other category\"\u001b[39;00m\n\u001b[0;32m----> 5\u001b[0m least_freq \u001b[39m=\u001b[39m disasters\u001b[39m.\u001b[39;49mgroup_by(\u001b[39m\"\u001b[39;49m\u001b[39mdisasterType\u001b[39;49m\u001b[39m\"\u001b[39;49m)\u001b[39m.\u001b[39;49msum()\u001b[39m.\u001b[39;49msort(\u001b[39m\"\u001b[39;49m\u001b[39mlen\u001b[39;49m\u001b[39m\"\u001b[39;49m)[:\u001b[39m10\u001b[39m]\n",
      "File \u001b[0;32m/Library/Frameworks/Python.framework/Versions/3.11/lib/python3.11/site-packages/polars/dataframe/frame.py:5140\u001b[0m, in \u001b[0;36mDataFrame.sort\u001b[0;34m(self, by, descending, nulls_last, multithreaded, maintain_order, *more_by)\u001b[0m\n\u001b[1;32m   5035\u001b[0m \u001b[39mdef\u001b[39;00m \u001b[39msort\u001b[39m(\n\u001b[1;32m   5036\u001b[0m     \u001b[39mself\u001b[39m,\n\u001b[1;32m   5037\u001b[0m     by: IntoExpr \u001b[39m|\u001b[39m Iterable[IntoExpr],\n\u001b[0;32m   (...)\u001b[0m\n\u001b[1;32m   5042\u001b[0m     maintain_order: \u001b[39mbool\u001b[39m \u001b[39m=\u001b[39m \u001b[39mFalse\u001b[39;00m,\n\u001b[1;32m   5043\u001b[0m ) \u001b[39m-\u001b[39m\u001b[39m>\u001b[39m DataFrame:\n\u001b[1;32m   5044\u001b[0m \u001b[39m    \u001b[39m\u001b[39m\"\"\"\u001b[39;00m\n\u001b[1;32m   5045\u001b[0m \u001b[39m    Sort the dataframe by the given columns.\u001b[39;00m\n\u001b[1;32m   5046\u001b[0m \n\u001b[0;32m   (...)\u001b[0m\n\u001b[1;32m   5128\u001b[0m \u001b[39m    └──────┴─────┴─────┘\u001b[39;00m\n\u001b[1;32m   5129\u001b[0m \u001b[39m    \"\"\"\u001b[39;00m\n\u001b[1;32m   5130\u001b[0m     \u001b[39mreturn\u001b[39;00m (\n\u001b[1;32m   5131\u001b[0m         \u001b[39mself\u001b[39;49m\u001b[39m.\u001b[39;49mlazy()\n\u001b[1;32m   5132\u001b[0m         \u001b[39m.\u001b[39;49msort(\n\u001b[1;32m   5133\u001b[0m             by,\n\u001b[1;32m   5134\u001b[0m             \u001b[39m*\u001b[39;49mmore_by,\n\u001b[1;32m   5135\u001b[0m             descending\u001b[39m=\u001b[39;49mdescending,\n\u001b[1;32m   5136\u001b[0m             nulls_last\u001b[39m=\u001b[39;49mnulls_last,\n\u001b[1;32m   5137\u001b[0m             multithreaded\u001b[39m=\u001b[39;49mmultithreaded,\n\u001b[1;32m   5138\u001b[0m             maintain_order\u001b[39m=\u001b[39;49mmaintain_order,\n\u001b[1;32m   5139\u001b[0m         )\n\u001b[0;32m-> 5140\u001b[0m         \u001b[39m.\u001b[39;49mcollect(_eager\u001b[39m=\u001b[39;49m\u001b[39mTrue\u001b[39;49;00m)\n\u001b[1;32m   5141\u001b[0m     )\n",
      "File \u001b[0;32m/Library/Frameworks/Python.framework/Versions/3.11/lib/python3.11/site-packages/polars/lazyframe/frame.py:2050\u001b[0m, in \u001b[0;36mLazyFrame.collect\u001b[0;34m(self, type_coercion, predicate_pushdown, projection_pushdown, simplify_expression, slice_pushdown, comm_subplan_elim, comm_subexpr_elim, cluster_with_columns, collapse_joins, no_optimization, streaming, engine, background, _eager, **_kwargs)\u001b[0m\n\u001b[1;32m   2048\u001b[0m \u001b[39m# Only for testing purposes\u001b[39;00m\n\u001b[1;32m   2049\u001b[0m callback \u001b[39m=\u001b[39m _kwargs\u001b[39m.\u001b[39mget(\u001b[39m\"\u001b[39m\u001b[39mpost_opt_callback\u001b[39m\u001b[39m\"\u001b[39m, callback)\n\u001b[0;32m-> 2050\u001b[0m \u001b[39mreturn\u001b[39;00m wrap_df(ldf\u001b[39m.\u001b[39;49mcollect(callback))\n",
      "\u001b[0;31mColumnNotFoundError\u001b[0m: \"len\" not found"
     ]
    }
   ],
   "source": [
    "disasters = pl.read_csv(\"1970-2021_DISASTERS.csv\", ignore_errors=True).rename(\n",
    "        {\"Disaster Type\" : \"disasterType\"})\n",
    "\n",
    "\n"
   ]
  },
  {
   "cell_type": "code",
   "execution_count": 42,
   "metadata": {},
   "outputs": [
    {
     "data": {
      "text/html": [
       "<div><style>\n",
       ".dataframe > thead > tr,\n",
       ".dataframe > tbody > tr {\n",
       "  text-align: right;\n",
       "  white-space: pre-wrap;\n",
       "}\n",
       "</style>\n",
       "<small>shape: (52, 2)</small><table border=\"1\" class=\"dataframe\"><thead><tr><th>Year</th><th>len</th></tr><tr><td>i64</td><td>u32</td></tr></thead><tbody><tr><td>1970</td><td>82</td></tr><tr><td>1971</td><td>63</td></tr><tr><td>1972</td><td>63</td></tr><tr><td>1973</td><td>65</td></tr><tr><td>1974</td><td>72</td></tr><tr><td>&hellip;</td><td>&hellip;</td></tr><tr><td>2017</td><td>371</td></tr><tr><td>2018</td><td>338</td></tr><tr><td>2019</td><td>442</td></tr><tr><td>2020</td><td>398</td></tr><tr><td>2021</td><td>315</td></tr></tbody></table></div>"
      ],
      "text/plain": [
       "shape: (52, 2)\n",
       "┌──────┬─────┐\n",
       "│ Year ┆ len │\n",
       "│ ---  ┆ --- │\n",
       "│ i64  ┆ u32 │\n",
       "╞══════╪═════╡\n",
       "│ 1970 ┆ 82  │\n",
       "│ 1971 ┆ 63  │\n",
       "│ 1972 ┆ 63  │\n",
       "│ 1973 ┆ 65  │\n",
       "│ 1974 ┆ 72  │\n",
       "│ …    ┆ …   │\n",
       "│ 2017 ┆ 371 │\n",
       "│ 2018 ┆ 338 │\n",
       "│ 2019 ┆ 442 │\n",
       "│ 2020 ┆ 398 │\n",
       "│ 2021 ┆ 315 │\n",
       "└──────┴─────┘"
      ]
     },
     "execution_count": 42,
     "metadata": {},
     "output_type": "execute_result"
    }
   ],
   "source": [
    "frequencies = disasters.select(\n",
    "    [\"Year\", \"disasterType\"]\n",
    "    ).group_by(\"Year\", maintain_order=True).len()\n",
    "\n",
    "frequencies\n",
    "# frequencies.write_csv(\"cleaned/disaster_frequencies.csv\")\n",
    "\n"
   ]
  },
  {
   "cell_type": "code",
   "execution_count": 51,
   "metadata": {},
   "outputs": [
    {
     "data": {
      "text/html": [
       "<div><style>\n",
       ".dataframe > thead > tr,\n",
       ".dataframe > tbody > tr {\n",
       "  text-align: right;\n",
       "  white-space: pre-wrap;\n",
       "}\n",
       "</style>\n",
       "<small>shape: (314, 4)</small><table border=\"1\" class=\"dataframe\"><thead><tr><th>Year</th><th>Country</th><th>disasterType</th><th>len</th></tr><tr><td>i64</td><td>str</td><td>str</td><td>u32</td></tr></thead><tbody><tr><td>1971</td><td>&quot;Canada&quot;</td><td>&quot;Other&quot;</td><td>1</td></tr><tr><td>1975</td><td>&quot;Costa Rica&quot;</td><td>&quot;Other&quot;</td><td>1</td></tr><tr><td>1975</td><td>&quot;Ecuador&quot;</td><td>&quot;Other&quot;</td><td>2</td></tr><tr><td>1976</td><td>&quot;Costa Rica&quot;</td><td>&quot;Other&quot;</td><td>1</td></tr><tr><td>1976</td><td>&quot;Ecuador&quot;</td><td>&quot;Other&quot;</td><td>1</td></tr><tr><td>&hellip;</td><td>&hellip;</td><td>&hellip;</td><td>&hellip;</td></tr><tr><td>2021</td><td>&quot;Philippines (the)&quot;</td><td>&quot;Other&quot;</td><td>1</td></tr><tr><td>2021</td><td>&quot;Canary Is&quot;</td><td>&quot;Other&quot;</td><td>1</td></tr><tr><td>2019</td><td>&quot;Uganda&quot;</td><td>&quot;Other&quot;</td><td>1</td></tr><tr><td>2021</td><td>&quot;Congo (the Democratic Republic…</td><td>&quot;Other&quot;</td><td>1</td></tr><tr><td>2021</td><td>&quot;Saint Vincent and the Grenadin…</td><td>&quot;Other&quot;</td><td>1</td></tr></tbody></table></div>"
      ],
      "text/plain": [
       "shape: (314, 4)\n",
       "┌──────┬─────────────────────────────────┬──────────────┬─────┐\n",
       "│ Year ┆ Country                         ┆ disasterType ┆ len │\n",
       "│ ---  ┆ ---                             ┆ ---          ┆ --- │\n",
       "│ i64  ┆ str                             ┆ str          ┆ u32 │\n",
       "╞══════╪═════════════════════════════════╪══════════════╪═════╡\n",
       "│ 1971 ┆ Canada                          ┆ Other        ┆ 1   │\n",
       "│ 1975 ┆ Costa Rica                      ┆ Other        ┆ 1   │\n",
       "│ 1975 ┆ Ecuador                         ┆ Other        ┆ 2   │\n",
       "│ 1976 ┆ Costa Rica                      ┆ Other        ┆ 1   │\n",
       "│ 1976 ┆ Ecuador                         ┆ Other        ┆ 1   │\n",
       "│ …    ┆ …                               ┆ …            ┆ …   │\n",
       "│ 2021 ┆ Philippines (the)               ┆ Other        ┆ 1   │\n",
       "│ 2021 ┆ Canary Is                       ┆ Other        ┆ 1   │\n",
       "│ 2019 ┆ Uganda                          ┆ Other        ┆ 1   │\n",
       "│ 2021 ┆ Congo (the Democratic Republic… ┆ Other        ┆ 1   │\n",
       "│ 2021 ┆ Saint Vincent and the Grenadin… ┆ Other        ┆ 1   │\n",
       "└──────┴─────────────────────────────────┴──────────────┴─────┘"
      ]
     },
     "execution_count": 51,
     "metadata": {},
     "output_type": "execute_result"
    }
   ],
   "source": [
    "annual_country_freq = disasters.select(\n",
    "    [\"Year\", \"disasterType\", \"Country\"]\n",
    "    ).group_by([\"Year\", \"Country\", \"disasterType\"], maintain_order=True).len()\n",
    "\n",
    "# group least frequent disaster types into \"other category\"\n",
    "least_freq = annual_country_freq.group_by(\"disasterType\").sum().sort(\"len\")[:6].select(\"disasterType\")\n",
    "least_freq = least_freq.to_series().to_list()\n",
    "annual_country_freq = annual_country_freq.with_columns(disasterType = pl.col(\"disasterType\").replace(least_freq, [\"Other\"] * 6 ))\n",
    "annual_country_freq.filter(pl.col(\"disasterType\") == \"Other\")\n"
   ]
  }
 ],
 "metadata": {
  "kernelspec": {
   "display_name": "Python 3",
   "language": "python",
   "name": "python3"
  },
  "language_info": {
   "codemirror_mode": {
    "name": "ipython",
    "version": 3
   },
   "file_extension": ".py",
   "mimetype": "text/x-python",
   "name": "python",
   "nbconvert_exporter": "python",
   "pygments_lexer": "ipython3",
   "version": "3.11.5"
  },
  "orig_nbformat": 4
 },
 "nbformat": 4,
 "nbformat_minor": 2
}
