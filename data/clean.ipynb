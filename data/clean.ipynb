{
 "cells": [
  {
   "cell_type": "code",
   "execution_count": 2,
   "metadata": {},
   "outputs": [],
   "source": [
    "import polars as pl\n",
    "import polars.selectors as cs"
   ]
  },
  {
   "cell_type": "code",
   "execution_count": 3,
   "metadata": {},
   "outputs": [
    {
     "name": "stdout",
     "output_type": "stream",
     "text": [
      "Total death Columns: shape: (1, 1)\n",
      "┌──────────────┐\n",
      "│ Total Deaths │\n",
      "│ ---          │\n",
      "│ u32          │\n",
      "╞══════════════╡\n",
      "│ 10199        │\n",
      "└──────────────┘\n",
      "Total Damages Columns: shape: (1, 1)\n",
      "┌──────────────────────────┐\n",
      "│ Total Damages ('000 US$) │\n",
      "│ ---                      │\n",
      "│ u32                      │\n",
      "╞══════════════════════════╡\n",
      "│ 4863                     │\n",
      "└──────────────────────────┘\n"
     ]
    },
    {
     "data": {
      "text/html": [
       "<div><style>\n",
       ".dataframe > thead > tr,\n",
       ".dataframe > tbody > tr {\n",
       "  text-align: right;\n",
       "  white-space: pre-wrap;\n",
       "}\n",
       "</style>\n",
       "<small>shape: (14_644, 47)</small><table border=\"1\" class=\"dataframe\"><thead><tr><th>Dis No</th><th>Year</th><th>Seq</th><th>Glide</th><th>Disaster Group</th><th>Disaster Subgroup</th><th>disasterType</th><th>Disaster Subtype</th><th>Disaster Subsubtype</th><th>Event Name</th><th>Country</th><th>ISO</th><th>Region</th><th>Continent</th><th>Location</th><th>Origin</th><th>Associated Dis</th><th>Associated Dis2</th><th>OFDA Response</th><th>Appeal</th><th>Declaration</th><th>Aid Contribution</th><th>Dis Mag Value</th><th>Dis Mag Scale</th><th>Latitude</th><th>Longitude</th><th>Local Time</th><th>River Basin</th><th>Start Year</th><th>Start Month</th><th>Start Day</th><th>End Year</th><th>End Month</th><th>End Day</th><th>Total Deaths</th><th>No Injured</th><th>No Affected</th><th>No Homeless</th><th>Total Affected</th><th>Reconstruction Costs (&#x27;000 US$)</th><th>Insured Damages (&#x27;000 US$)</th><th>Total Damages (&#x27;000 US$)</th><th>CPI</th><th>Adm Level</th><th>Admin1 Code</th><th>Admin2 Code</th><th>Geo Locations</th></tr><tr><td>str</td><td>i64</td><td>i64</td><td>str</td><td>str</td><td>str</td><td>str</td><td>str</td><td>str</td><td>str</td><td>str</td><td>str</td><td>str</td><td>str</td><td>str</td><td>str</td><td>str</td><td>str</td><td>str</td><td>str</td><td>str</td><td>str</td><td>i64</td><td>str</td><td>f64</td><td>f64</td><td>str</td><td>str</td><td>i64</td><td>i64</td><td>i64</td><td>i64</td><td>i64</td><td>i64</td><td>i64</td><td>i64</td><td>i64</td><td>i64</td><td>i64</td><td>str</td><td>str</td><td>i64</td><td>f64</td><td>i64</td><td>str</td><td>i64</td><td>str</td></tr></thead><tbody><tr><td>&quot;1970-0013-ARG&quot;</td><td>1970</td><td>13</td><td>null</td><td>&quot;Natural&quot;</td><td>&quot;Hydrological&quot;</td><td>&quot;Flood&quot;</td><td>null</td><td>null</td><td>null</td><td>&quot;Argentina&quot;</td><td>&quot;ARG&quot;</td><td>&quot;South America&quot;</td><td>&quot;Americas&quot;</td><td>&quot;Mendoza&quot;</td><td>null</td><td>null</td><td>null</td><td>null</td><td>null</td><td>null</td><td>null</td><td>null</td><td>&quot;Km2&quot;</td><td>null</td><td>null</td><td>null</td><td>null</td><td>1970</td><td>1</td><td>4</td><td>1970</td><td>1</td><td>4</td><td>36</td><td>null</td><td>null</td><td>null</td><td>null</td><td>null</td><td>null</td><td>25000</td><td>15.001282</td><td>null</td><td>null</td><td>null</td><td>null</td></tr><tr><td>&quot;1970-0109-AUS&quot;</td><td>1970</td><td>109</td><td>null</td><td>&quot;Natural&quot;</td><td>&quot;Meteorological&quot;</td><td>&quot;Storm&quot;</td><td>&quot;Tropical cyclone&quot;</td><td>null</td><td>&quot;Ada&quot;</td><td>&quot;Australia&quot;</td><td>&quot;AUS&quot;</td><td>&quot;Australia and New Zealand&quot;</td><td>&quot;Oceania&quot;</td><td>&quot;Queensland&quot;</td><td>null</td><td>null</td><td>null</td><td>null</td><td>null</td><td>null</td><td>null</td><td>null</td><td>&quot;Kph&quot;</td><td>null</td><td>null</td><td>null</td><td>null</td><td>1970</td><td>1</td><td>null</td><td>1970</td><td>1</td><td>null</td><td>13</td><td>null</td><td>null</td><td>null</td><td>null</td><td>null</td><td>null</td><td>72475</td><td>15.001282</td><td>null</td><td>null</td><td>null</td><td>null</td></tr><tr><td>&quot;1970-0044-BEN&quot;</td><td>1970</td><td>44</td><td>null</td><td>&quot;Natural&quot;</td><td>&quot;Hydrological&quot;</td><td>&quot;Flood&quot;</td><td>null</td><td>null</td><td>null</td><td>&quot;Benin&quot;</td><td>&quot;BEN&quot;</td><td>&quot;Western Africa&quot;</td><td>&quot;Africa&quot;</td><td>&quot;Atacora region&quot;</td><td>null</td><td>null</td><td>null</td><td>&quot;Yes&quot;</td><td>null</td><td>null</td><td>null</td><td>null</td><td>&quot;Km2&quot;</td><td>null</td><td>null</td><td>null</td><td>null</td><td>1970</td><td>9</td><td>null</td><td>1970</td><td>9</td><td>null</td><td>null</td><td>null</td><td>null</td><td>null</td><td>null</td><td>null</td><td>null</td><td>200</td><td>15.001282</td><td>null</td><td>null</td><td>null</td><td>null</td></tr><tr><td>&quot;1970-0063-BGD&quot;</td><td>1970</td><td>63</td><td>null</td><td>&quot;Natural&quot;</td><td>&quot;Meteorological&quot;</td><td>&quot;Storm&quot;</td><td>&quot;Tropical cyclone&quot;</td><td>null</td><td>null</td><td>&quot;Bangladesh&quot;</td><td>&quot;BGD&quot;</td><td>&quot;Southern Asia&quot;</td><td>&quot;Asia&quot;</td><td>&quot;Khulna, Chittagong&quot;</td><td>null</td><td>null</td><td>null</td><td>&quot;Yes&quot;</td><td>null</td><td>null</td><td>null</td><td>null</td><td>&quot;Kph&quot;</td><td>null</td><td>null</td><td>null</td><td>null</td><td>1970</td><td>11</td><td>12</td><td>1970</td><td>11</td><td>12</td><td>300000</td><td>null</td><td>3648000</td><td>null</td><td>3648000</td><td>null</td><td>null</td><td>86400</td><td>15.001282</td><td>null</td><td>null</td><td>null</td><td>null</td></tr><tr><td>&quot;1970-0026-BGD&quot;</td><td>1970</td><td>26</td><td>null</td><td>&quot;Natural&quot;</td><td>&quot;Meteorological&quot;</td><td>&quot;Storm&quot;</td><td>null</td><td>null</td><td>null</td><td>&quot;Bangladesh&quot;</td><td>&quot;BGD&quot;</td><td>&quot;Southern Asia&quot;</td><td>&quot;Asia&quot;</td><td>null</td><td>null</td><td>null</td><td>null</td><td>null</td><td>null</td><td>null</td><td>null</td><td>null</td><td>&quot;Kph&quot;</td><td>null</td><td>null</td><td>null</td><td>null</td><td>1970</td><td>4</td><td>13</td><td>1970</td><td>4</td><td>13</td><td>17</td><td>null</td><td>110</td><td>null</td><td>110</td><td>null</td><td>null</td><td>null</td><td>15.001282</td><td>null</td><td>null</td><td>null</td><td>null</td></tr><tr><td>&hellip;</td><td>&hellip;</td><td>&hellip;</td><td>&hellip;</td><td>&hellip;</td><td>&hellip;</td><td>&hellip;</td><td>&hellip;</td><td>&hellip;</td><td>&hellip;</td><td>&hellip;</td><td>&hellip;</td><td>&hellip;</td><td>&hellip;</td><td>&hellip;</td><td>&hellip;</td><td>&hellip;</td><td>&hellip;</td><td>&hellip;</td><td>&hellip;</td><td>&hellip;</td><td>&hellip;</td><td>&hellip;</td><td>&hellip;</td><td>&hellip;</td><td>&hellip;</td><td>&hellip;</td><td>&hellip;</td><td>&hellip;</td><td>&hellip;</td><td>&hellip;</td><td>&hellip;</td><td>&hellip;</td><td>&hellip;</td><td>&hellip;</td><td>&hellip;</td><td>&hellip;</td><td>&hellip;</td><td>&hellip;</td><td>&hellip;</td><td>&hellip;</td><td>&hellip;</td><td>&hellip;</td><td>&hellip;</td><td>&hellip;</td><td>&hellip;</td><td>&hellip;</td></tr><tr><td>&quot;2021-0449-YEM&quot;</td><td>2021</td><td>449</td><td>&quot;FL-2021-000110&quot;</td><td>&quot;Natural&quot;</td><td>&quot;Hydrological&quot;</td><td>&quot;Flood&quot;</td><td>null</td><td>null</td><td>null</td><td>&quot;Yemen&quot;</td><td>&quot;YEM&quot;</td><td>&quot;Western Asia&quot;</td><td>&quot;Asia&quot;</td><td>&quot;Dhamar, Amran, Al Mahwit, Mari…</td><td>&quot;Heavy rains&quot;</td><td>null</td><td>null</td><td>null</td><td>null</td><td>null</td><td>null</td><td>null</td><td>&quot;Km2&quot;</td><td>null</td><td>null</td><td>null</td><td>null</td><td>2021</td><td>7</td><td>16</td><td>2021</td><td>8</td><td>7</td><td>11</td><td>null</td><td>67980</td><td>null</td><td>67980</td><td>null</td><td>null</td><td>null</td><td>null</td><td>null</td><td>null</td><td>null</td><td>null</td></tr><tr><td>&quot;2021-0075-ZAF&quot;</td><td>2021</td><td>75</td><td>null</td><td>&quot;Natural&quot;</td><td>&quot;Hydrological&quot;</td><td>&quot;Flood&quot;</td><td>null</td><td>null</td><td>null</td><td>&quot;South Africa&quot;</td><td>&quot;ZAF&quot;</td><td>&quot;Southern Africa&quot;</td><td>&quot;Africa&quot;</td><td>&quot;Mpumalanga Province, Free Stat…</td><td>&quot;Heavy rains&quot;</td><td>null</td><td>null</td><td>null</td><td>null</td><td>null</td><td>null</td><td>null</td><td>&quot;Km2&quot;</td><td>null</td><td>null</td><td>null</td><td>null</td><td>2021</td><td>2</td><td>1</td><td>2021</td><td>2</td><td>15</td><td>31</td><td>null</td><td>400</td><td>null</td><td>400</td><td>null</td><td>null</td><td>75000</td><td>null</td><td>null</td><td>&quot;2707;77311;77312;77313;77315&quot;</td><td>null</td><td>&quot;Free State, KwaZulu-Natal, Lim…</td></tr><tr><td>&quot;2021-0599-COD&quot;</td><td>2021</td><td>599</td><td>&quot;EP-2021-000138&quot;</td><td>&quot;Natural&quot;</td><td>&quot;Biological&quot;</td><td>&quot;Epidemic&quot;</td><td>&quot;Viral disease&quot;</td><td>null</td><td>&quot;Meningitis&quot;</td><td>&quot;Congo (the Democratic Republic…</td><td>&quot;COD&quot;</td><td>&quot;Middle Africa&quot;</td><td>&quot;Africa&quot;</td><td>&quot;Tshopo province&quot;</td><td>null</td><td>null</td><td>null</td><td>null</td><td>null</td><td>&quot;Yes&quot;</td><td>null</td><td>null</td><td>&quot;Vaccinated&quot;</td><td>null</td><td>null</td><td>null</td><td>null</td><td>2021</td><td>9</td><td>7</td><td>2021</td><td>9</td><td>13</td><td>131</td><td>301</td><td>null</td><td>null</td><td>301</td><td>null</td><td>null</td><td>null</td><td>null</td><td>null</td><td>null</td><td>null</td><td>null</td></tr><tr><td>&quot;2021-0020-SRB&quot;</td><td>2021</td><td>20</td><td>null</td><td>&quot;Natural&quot;</td><td>&quot;Hydrological&quot;</td><td>&quot;Flood&quot;</td><td>null</td><td>null</td><td>null</td><td>&quot;Serbia&quot;</td><td>&quot;SRB&quot;</td><td>&quot;Southern Europe&quot;</td><td>&quot;Europe&quot;</td><td>&quot;Zitoradja (Toplicki), Doljevac…</td><td>&quot;Heavy rains&quot;</td><td>null</td><td>null</td><td>null</td><td>null</td><td>&quot;Yes&quot;</td><td>null</td><td>null</td><td>&quot;Km2&quot;</td><td>null</td><td>null</td><td>null</td><td>null</td><td>2021</td><td>1</td><td>11</td><td>2021</td><td>1</td><td>12</td><td>null</td><td>null</td><td>22</td><td>null</td><td>22</td><td>null</td><td>null</td><td>null</td><td>null</td><td>1</td><td>&quot;25374;25378;25379;25380;25383;…</td><td>null</td><td>&quot;Jablanicki, Kosovski, Kosovsko…</td></tr><tr><td>&quot;2021-0481-SSD&quot;</td><td>2021</td><td>481</td><td>null</td><td>&quot;Natural&quot;</td><td>&quot;Hydrological&quot;</td><td>&quot;Flood&quot;</td><td>null</td><td>null</td><td>null</td><td>&quot;South Sudan&quot;</td><td>&quot;SSD&quot;</td><td>&quot;Northern Africa&quot;</td><td>&quot;Africa&quot;</td><td>&quot;Mayendit County (Unity); Ayod,…</td><td>&quot;Heavy rains&quot;</td><td>null</td><td>null</td><td>null</td><td>null</td><td>null</td><td>null</td><td>null</td><td>&quot;Km2&quot;</td><td>null</td><td>null</td><td>null</td><td>&quot;Nile, Lol and Sobat rivers&quot;</td><td>2021</td><td>5</td><td>null</td><td>2021</td><td>10</td><td>7</td><td>7</td><td>null</td><td>500000</td><td>null</td><td>500000</td><td>null</td><td>null</td><td>null</td><td>null</td><td>null</td><td>null</td><td>null</td><td>null</td></tr></tbody></table></div>"
      ],
      "text/plain": [
       "shape: (14_644, 47)\n",
       "┌─────────────┬──────┬─────┬─────────────┬───┬───────────┬─────────────┬─────────────┬─────────────┐\n",
       "│ Dis No      ┆ Year ┆ Seq ┆ Glide       ┆ … ┆ Adm Level ┆ Admin1 Code ┆ Admin2 Code ┆ Geo         │\n",
       "│ ---         ┆ ---  ┆ --- ┆ ---         ┆   ┆ ---       ┆ ---         ┆ ---         ┆ Locations   │\n",
       "│ str         ┆ i64  ┆ i64 ┆ str         ┆   ┆ i64       ┆ str         ┆ i64         ┆ ---         │\n",
       "│             ┆      ┆     ┆             ┆   ┆           ┆             ┆             ┆ str         │\n",
       "╞═════════════╪══════╪═════╪═════════════╪═══╪═══════════╪═════════════╪═════════════╪═════════════╡\n",
       "│ 1970-0013-A ┆ 1970 ┆ 13  ┆ null        ┆ … ┆ null      ┆ null        ┆ null        ┆ null        │\n",
       "│ RG          ┆      ┆     ┆             ┆   ┆           ┆             ┆             ┆             │\n",
       "│ 1970-0109-A ┆ 1970 ┆ 109 ┆ null        ┆ … ┆ null      ┆ null        ┆ null        ┆ null        │\n",
       "│ US          ┆      ┆     ┆             ┆   ┆           ┆             ┆             ┆             │\n",
       "│ 1970-0044-B ┆ 1970 ┆ 44  ┆ null        ┆ … ┆ null      ┆ null        ┆ null        ┆ null        │\n",
       "│ EN          ┆      ┆     ┆             ┆   ┆           ┆             ┆             ┆             │\n",
       "│ 1970-0063-B ┆ 1970 ┆ 63  ┆ null        ┆ … ┆ null      ┆ null        ┆ null        ┆ null        │\n",
       "│ GD          ┆      ┆     ┆             ┆   ┆           ┆             ┆             ┆             │\n",
       "│ 1970-0026-B ┆ 1970 ┆ 26  ┆ null        ┆ … ┆ null      ┆ null        ┆ null        ┆ null        │\n",
       "│ GD          ┆      ┆     ┆             ┆   ┆           ┆             ┆             ┆             │\n",
       "│ …           ┆ …    ┆ …   ┆ …           ┆ … ┆ …         ┆ …           ┆ …           ┆ …           │\n",
       "│ 2021-0449-Y ┆ 2021 ┆ 449 ┆ FL-2021-000 ┆ … ┆ null      ┆ null        ┆ null        ┆ null        │\n",
       "│ EM          ┆      ┆     ┆ 110         ┆   ┆           ┆             ┆             ┆             │\n",
       "│ 2021-0075-Z ┆ 2021 ┆ 75  ┆ null        ┆ … ┆ null      ┆ 2707;77311; ┆ null        ┆ Free State, │\n",
       "│ AF          ┆      ┆     ┆             ┆   ┆           ┆ 77312;77313 ┆             ┆ KwaZulu-Nat │\n",
       "│             ┆      ┆     ┆             ┆   ┆           ┆ ;77315      ┆             ┆ al, Lim…    │\n",
       "│ 2021-0599-C ┆ 2021 ┆ 599 ┆ EP-2021-000 ┆ … ┆ null      ┆ null        ┆ null        ┆ null        │\n",
       "│ OD          ┆      ┆     ┆ 138         ┆   ┆           ┆             ┆             ┆             │\n",
       "│ 2021-0020-S ┆ 2021 ┆ 20  ┆ null        ┆ … ┆ 1         ┆ 25374;25378 ┆ null        ┆ Jablanicki, │\n",
       "│ RB          ┆      ┆     ┆             ┆   ┆           ┆ ;25379;2538 ┆             ┆ Kosovski,   │\n",
       "│             ┆      ┆     ┆             ┆   ┆           ┆ 0;25383;…   ┆             ┆ Kosovsko…   │\n",
       "│ 2021-0481-S ┆ 2021 ┆ 481 ┆ null        ┆ … ┆ null      ┆ null        ┆ null        ┆ null        │\n",
       "│ SD          ┆      ┆     ┆             ┆   ┆           ┆             ┆             ┆             │\n",
       "└─────────────┴──────┴─────┴─────────────┴───┴───────────┴─────────────┴─────────────┴─────────────┘"
      ]
     },
     "execution_count": 3,
     "metadata": {},
     "output_type": "execute_result"
    }
   ],
   "source": [
    "disasters = pl.read_csv(\"1970-2021_DISASTERS.csv\", ignore_errors=True).rename(\n",
    "        {\"Disaster Type\" : \"disasterType\"})\n",
    "\n",
    "disasters"
   ]
  },
  {
   "cell_type": "code",
   "execution_count": null,
   "metadata": {},
   "outputs": [],
   "source": []
  },
  {
   "cell_type": "code",
   "execution_count": 14,
   "metadata": {},
   "outputs": [
    {
     "data": {
      "text/html": [
       "<div><style>\n",
       ".dataframe > thead > tr,\n",
       ".dataframe > tbody > tr {\n",
       "  text-align: right;\n",
       "  white-space: pre-wrap;\n",
       "}\n",
       "</style>\n",
       "<small>shape: (3_843, 4)</small><table border=\"1\" class=\"dataframe\"><thead><tr><th>Year</th><th>Region</th><th>disasterType</th><th>len</th></tr><tr><td>i64</td><td>str</td><td>str</td><td>u32</td></tr></thead><tbody><tr><td>1970</td><td>&quot;South America&quot;</td><td>&quot;Flood&quot;</td><td>1</td></tr><tr><td>1970</td><td>&quot;Australia and New Zealand&quot;</td><td>&quot;Storm&quot;</td><td>1</td></tr><tr><td>1970</td><td>&quot;Western Africa&quot;</td><td>&quot;Flood&quot;</td><td>1</td></tr><tr><td>1970</td><td>&quot;Southern Asia&quot;</td><td>&quot;Storm&quot;</td><td>1</td></tr><tr><td>1970</td><td>&quot;Southern Asia&quot;</td><td>&quot;Flood&quot;</td><td>1</td></tr><tr><td>&hellip;</td><td>&hellip;</td><td>&hellip;</td><td>&hellip;</td></tr><tr><td>2021</td><td>&quot;Northern America&quot;</td><td>&quot;Flood&quot;</td><td>1</td></tr><tr><td>2021</td><td>&quot;Middle Africa&quot;</td><td>&quot;Other&quot;</td><td>1</td></tr><tr><td>2021</td><td>&quot;Northern Africa&quot;</td><td>&quot;Drought&quot;</td><td>1</td></tr><tr><td>2021</td><td>&quot;Caribbean&quot;</td><td>&quot;Other&quot;</td><td>1</td></tr><tr><td>2021</td><td>&quot;Middle Africa&quot;</td><td>&quot;Epidemic&quot;</td><td>1</td></tr></tbody></table></div>"
      ],
      "text/plain": [
       "shape: (3_843, 4)\n",
       "┌──────┬───────────────────────────┬──────────────┬─────┐\n",
       "│ Year ┆ Region                    ┆ disasterType ┆ len │\n",
       "│ ---  ┆ ---                       ┆ ---          ┆ --- │\n",
       "│ i64  ┆ str                       ┆ str          ┆ u32 │\n",
       "╞══════╪═══════════════════════════╪══════════════╪═════╡\n",
       "│ 1970 ┆ South America             ┆ Flood        ┆ 1   │\n",
       "│ 1970 ┆ Australia and New Zealand ┆ Storm        ┆ 1   │\n",
       "│ 1970 ┆ Western Africa            ┆ Flood        ┆ 1   │\n",
       "│ 1970 ┆ Southern Asia             ┆ Storm        ┆ 1   │\n",
       "│ 1970 ┆ Southern Asia             ┆ Flood        ┆ 1   │\n",
       "│ …    ┆ …                         ┆ …            ┆ …   │\n",
       "│ 2021 ┆ Northern America          ┆ Flood        ┆ 1   │\n",
       "│ 2021 ┆ Middle Africa             ┆ Other        ┆ 1   │\n",
       "│ 2021 ┆ Northern Africa           ┆ Drought      ┆ 1   │\n",
       "│ 2021 ┆ Caribbean                 ┆ Other        ┆ 1   │\n",
       "│ 2021 ┆ Middle Africa             ┆ Epidemic     ┆ 1   │\n",
       "└──────┴───────────────────────────┴──────────────┴─────┘"
      ]
     },
     "execution_count": 14,
     "metadata": {},
     "output_type": "execute_result"
    }
   ],
   "source": [
    "regional_freq = disasters.select(\n",
    "    [\"Year\", \"Region\",\"disasterType\"]\n",
    "    ).group_by([\"Year\",\"Region\", \"disasterType\"], maintain_order=True).len()\n",
    "\n",
    "# group least frequent disaster types into \"other category\"\n",
    "least_freq = regional_freq.group_by(\"disasterType\").sum().sort(\"len\")[:6].select(\"disasterType\")\n",
    "least_freq = least_freq.to_series().to_list()\n",
    "annual_country_freq = regional_freq.with_columns(disasterType = pl.col(\"disasterType\").replace(least_freq, [\"Other\"] * 6 ))\n",
    "\n",
    "# regroup to ensure there are not multiple others within one region/year\n",
    "annual_country_freq = annual_country_freq.group_by([\"Year\",\"Region\", \"disasterType\"], maintain_order=True).len()\n",
    "\n",
    "annual_country_freq\n"
   ]
  },
  {
   "cell_type": "code",
   "execution_count": 15,
   "metadata": {},
   "outputs": [
    {
     "data": {
      "text/html": [
       "<div><style>\n",
       ".dataframe > thead > tr,\n",
       ".dataframe > tbody > tr {\n",
       "  text-align: right;\n",
       "  white-space: pre-wrap;\n",
       "}\n",
       "</style>\n",
       "<small>shape: (460, 4)</small><table border=\"1\" class=\"dataframe\"><thead><tr><th>Year</th><th>disasterType</th><th>len</th><th>compkey</th></tr><tr><td>i64</td><td>str</td><td>u32</td><td>str</td></tr></thead><tbody><tr><td>1970</td><td>&quot;Flood&quot;</td><td>31</td><td>&quot;1970Flood&quot;</td></tr><tr><td>1970</td><td>&quot;Storm&quot;</td><td>24</td><td>&quot;1970Storm&quot;</td></tr><tr><td>1970</td><td>&quot;Drought&quot;</td><td>2</td><td>&quot;1970Drought&quot;</td></tr><tr><td>1970</td><td>&quot;Landslide&quot;</td><td>6</td><td>&quot;1970Landslide&quot;</td></tr><tr><td>1970</td><td>&quot;Earthquake&quot;</td><td>12</td><td>&quot;1970Earthquake&quot;</td></tr><tr><td>&hellip;</td><td>&hellip;</td><td>&hellip;</td><td>&hellip;</td></tr><tr><td>2021</td><td>&quot;Landslide&quot;</td><td>10</td><td>&quot;2021Landslide&quot;</td></tr><tr><td>2021</td><td>&quot;Earthquake&quot;</td><td>19</td><td>&quot;2021Earthquake&quot;</td></tr><tr><td>2021</td><td>&quot;Other&quot;</td><td>10</td><td>&quot;2021Other&quot;</td></tr><tr><td>2020</td><td>&quot;Epidemic&quot;</td><td>6</td><td>&quot;2020Epidemic&quot;</td></tr><tr><td>2021</td><td>&quot;Epidemic&quot;</td><td>5</td><td>&quot;2021Epidemic&quot;</td></tr></tbody></table></div>"
      ],
      "text/plain": [
       "shape: (460, 4)\n",
       "┌──────┬──────────────┬─────┬────────────────┐\n",
       "│ Year ┆ disasterType ┆ len ┆ compkey        │\n",
       "│ ---  ┆ ---          ┆ --- ┆ ---            │\n",
       "│ i64  ┆ str          ┆ u32 ┆ str            │\n",
       "╞══════╪══════════════╪═════╪════════════════╡\n",
       "│ 1970 ┆ Flood        ┆ 31  ┆ 1970Flood      │\n",
       "│ 1970 ┆ Storm        ┆ 24  ┆ 1970Storm      │\n",
       "│ 1970 ┆ Drought      ┆ 2   ┆ 1970Drought    │\n",
       "│ 1970 ┆ Landslide    ┆ 6   ┆ 1970Landslide  │\n",
       "│ 1970 ┆ Earthquake   ┆ 12  ┆ 1970Earthquake │\n",
       "│ …    ┆ …            ┆ …   ┆ …              │\n",
       "│ 2021 ┆ Landslide    ┆ 10  ┆ 2021Landslide  │\n",
       "│ 2021 ┆ Earthquake   ┆ 19  ┆ 2021Earthquake │\n",
       "│ 2021 ┆ Other        ┆ 10  ┆ 2021Other      │\n",
       "│ 2020 ┆ Epidemic     ┆ 6   ┆ 2020Epidemic   │\n",
       "│ 2021 ┆ Epidemic     ┆ 5   ┆ 2021Epidemic   │\n",
       "└──────┴──────────────┴─────┴────────────────┘"
      ]
     },
     "execution_count": 15,
     "metadata": {},
     "output_type": "execute_result"
    }
   ],
   "source": [
    "# consolidate least frequent disaster types into Other category\n",
    "annual_frequencies = disasters.with_columns(\\\n",
    "    disasterType = pl.col(\"disasterType\").replace(least_freq, [\"Other\"] * 6 ))\n",
    "\n",
    "annual_frequencies = annual_frequencies.select(\n",
    "    [\"Year\", \"disasterType\"]\n",
    "    ).group_by([\"Year\", \"disasterType\"], maintain_order=True).len()\n",
    "\n",
    "annual_frequencies = annual_frequencies.with_columns(pl.concat_str([pl.col(\"Year\"), pl.col(\"disasterType\")]).alias(\"compkey\"))\n",
    "\n",
    "annual_frequencies\n"
   ]
  },
  {
   "cell_type": "code",
   "execution_count": 22,
   "metadata": {},
   "outputs": [
    {
     "name": "stdout",
     "output_type": "stream",
     "text": [
      "['Animal accident', 'Impact', 'Glacial lake outburst', 'Mass movement (dry)', 'Insect infestation', 'Volcanic activity']\n"
     ]
    },
    {
     "data": {
      "text/html": [
       "<div><style>\n",
       ".dataframe > thead > tr,\n",
       ".dataframe > tbody > tr {\n",
       "  text-align: right;\n",
       "  white-space: pre-wrap;\n",
       "}\n",
       "</style>\n",
       "<small>shape: (428, 4)</small><table border=\"1\" class=\"dataframe\"><thead><tr><th>Year</th><th>disasterType</th><th>Code</th><th>economicdamage</th></tr><tr><td>i64</td><td>str</td><td>str</td><td>i64</td></tr></thead><tbody><tr><td>2008</td><td>&quot;Drought&quot;</td><td>null</td><td>290311502</td></tr><tr><td>1975</td><td>&quot;Extreme temperature&quot;</td><td>null</td><td>600000000</td></tr><tr><td>2019</td><td>&quot;Earthquake&quot;</td><td>null</td><td>2409258000</td></tr><tr><td>2007</td><td>&quot;Extreme temperature&quot;</td><td>null</td><td>0</td></tr><tr><td>1979</td><td>&quot;Wet mass movement&quot;</td><td>null</td><td>2466000</td></tr><tr><td>&hellip;</td><td>&hellip;</td><td>&hellip;</td><td>&hellip;</td></tr><tr><td>1994</td><td>&quot;Wildfire&quot;</td><td>null</td><td>152000000</td></tr><tr><td>1998</td><td>&quot;Wildfire&quot;</td><td>null</td><td>2616208000</td></tr><tr><td>1985</td><td>&quot;Wet mass movement&quot;</td><td>null</td><td>0</td></tr><tr><td>1986</td><td>&quot;Other&quot;</td><td>null</td><td>0</td></tr><tr><td>2001</td><td>&quot;Wildfire&quot;</td><td>null</td><td>27391304</td></tr></tbody></table></div>"
      ],
      "text/plain": [
       "shape: (428, 4)\n",
       "┌──────┬─────────────────────┬──────┬────────────────┐\n",
       "│ Year ┆ disasterType        ┆ Code ┆ economicdamage │\n",
       "│ ---  ┆ ---                 ┆ ---  ┆ ---            │\n",
       "│ i64  ┆ str                 ┆ str  ┆ i64            │\n",
       "╞══════╪═════════════════════╪══════╪════════════════╡\n",
       "│ 2008 ┆ Drought             ┆ null ┆ 290311502      │\n",
       "│ 1975 ┆ Extreme temperature ┆ null ┆ 600000000      │\n",
       "│ 2019 ┆ Earthquake          ┆ null ┆ 2409258000     │\n",
       "│ 2007 ┆ Extreme temperature ┆ null ┆ 0              │\n",
       "│ 1979 ┆ Wet mass movement   ┆ null ┆ 2466000        │\n",
       "│ …    ┆ …                   ┆ …    ┆ …              │\n",
       "│ 1994 ┆ Wildfire            ┆ null ┆ 152000000      │\n",
       "│ 1998 ┆ Wildfire            ┆ null ┆ 2616208000     │\n",
       "│ 1985 ┆ Wet mass movement   ┆ null ┆ 0              │\n",
       "│ 1986 ┆ Other               ┆ null ┆ 0              │\n",
       "│ 2001 ┆ Wildfire            ┆ null ┆ 27391304       │\n",
       "└──────┴─────────────────────┴──────┴────────────────┘"
      ]
     },
     "execution_count": 22,
     "metadata": {},
     "output_type": "execute_result"
    }
   ],
   "source": [
    "disaster_costs = pl.read_csv(\"disaster_costs.csv\").rename(\n",
    "        {\"Entity\" : \"disasterType\", \"Total economic damages\" : \"economicdamage\"})\n",
    "disaster_costs = disaster_costs.filter(~pl.col(\"disasterType\").str.contains(\"All disasters\"))\n",
    "print(least_freq)\n",
    "disaster_costs = disaster_costs.with_columns(disasterType = pl.col(\"disasterType\").replace(least_freq, [\"Other\"] * 6 ))\n",
    "disaster_costs = disaster_costs.filter(pl.col(\"Year\") >= 1970).filter(pl.col(\"Year\") <= 2021)\n",
    "disaster_costs = disaster_costs.group_by([\"Year\", \"disasterType\"]).sum()\n",
    "\n",
    "\n",
    "disaster_costs.write_csv(\"cleaned/disaster_costs.csv\")\n",
    "disaster_costs\n"
   ]
  },
  {
   "cell_type": "code",
   "execution_count": 45,
   "metadata": {},
   "outputs": [
    {
     "data": {
      "text/html": [
       "<div><style>\n",
       ".dataframe > thead > tr,\n",
       ".dataframe > tbody > tr {\n",
       "  text-align: right;\n",
       "  white-space: pre-wrap;\n",
       "}\n",
       "</style>\n",
       "<small>shape: (4_893, 5)</small><table border=\"1\" class=\"dataframe\"><thead><tr><th>Year</th><th>disasterType</th><th>Region</th><th>Country</th><th>Cost ($K)</th></tr><tr><td>i64</td><td>str</td><td>str</td><td>str</td><td>i64</td></tr></thead><tbody><tr><td>1971</td><td>&quot;Drought&quot;</td><td>&quot;Africa&quot;</td><td>&quot;Gambia&quot;</td><td>1505</td></tr><tr><td>1970</td><td>&quot;Flood&quot;</td><td>&quot;Africa&quot;</td><td>&quot;Morocco&quot;</td><td>235442</td></tr><tr><td>1970</td><td>&quot;Flood&quot;</td><td>&quot;Americas&quot;</td><td>&quot;Peru&quot;</td><td>40810</td></tr><tr><td>1970</td><td>&quot;Flood&quot;</td><td>&quot;Americas&quot;</td><td>&quot;Argentina&quot;</td><td>196202</td></tr><tr><td>1970</td><td>&quot;Storm&quot;</td><td>&quot;Africa&quot;</td><td>&quot;Madagascar&quot;</td><td>89468</td></tr><tr><td>&hellip;</td><td>&hellip;</td><td>&hellip;</td><td>&hellip;</td><td>&hellip;</td></tr><tr><td>2021</td><td>&quot;Wildfire&quot;</td><td>&quot;Americas&quot;</td><td>&quot;United States of America&quot;</td><td>3710805</td></tr><tr><td>2021</td><td>&quot;Flood&quot;</td><td>&quot;Asia&quot;</td><td>&quot;Pakistan&quot;</td><td>11245</td></tr><tr><td>2021</td><td>&quot;Drought&quot;</td><td>&quot;Asia&quot;</td><td>&quot;China&quot;</td><td>3485908</td></tr><tr><td>2021</td><td>&quot;Drought&quot;</td><td>&quot;Americas&quot;</td><td>&quot;Brazil&quot;</td><td>3373459</td></tr><tr><td>2021</td><td>&quot;Drought&quot;</td><td>&quot;Americas&quot;</td><td>&quot;United States of America&quot;</td><td>10120377</td></tr></tbody></table></div>"
      ],
      "text/plain": [
       "shape: (4_893, 5)\n",
       "┌──────┬──────────────┬──────────┬──────────────────────────┬───────────┐\n",
       "│ Year ┆ disasterType ┆ Region   ┆ Country                  ┆ Cost ($K) │\n",
       "│ ---  ┆ ---          ┆ ---      ┆ ---                      ┆ ---       │\n",
       "│ i64  ┆ str          ┆ str      ┆ str                      ┆ i64       │\n",
       "╞══════╪══════════════╪══════════╪══════════════════════════╪═══════════╡\n",
       "│ 1971 ┆ Drought      ┆ Africa   ┆ Gambia                   ┆ 1505      │\n",
       "│ 1970 ┆ Flood        ┆ Africa   ┆ Morocco                  ┆ 235442    │\n",
       "│ 1970 ┆ Flood        ┆ Americas ┆ Peru                     ┆ 40810     │\n",
       "│ 1970 ┆ Flood        ┆ Americas ┆ Argentina                ┆ 196202    │\n",
       "│ 1970 ┆ Storm        ┆ Africa   ┆ Madagascar               ┆ 89468     │\n",
       "│ …    ┆ …            ┆ …        ┆ …                        ┆ …         │\n",
       "│ 2021 ┆ Wildfire     ┆ Americas ┆ United States of America ┆ 3710805   │\n",
       "│ 2021 ┆ Flood        ┆ Asia     ┆ Pakistan                 ┆ 11245     │\n",
       "│ 2021 ┆ Drought      ┆ Asia     ┆ China                    ┆ 3485908   │\n",
       "│ 2021 ┆ Drought      ┆ Americas ┆ Brazil                   ┆ 3373459   │\n",
       "│ 2021 ┆ Drought      ┆ Americas ┆ United States of America ┆ 10120377  │\n",
       "└──────┴──────────────┴──────────┴──────────────────────────┴───────────┘"
      ]
     },
     "execution_count": 45,
     "metadata": {},
     "output_type": "execute_result"
    }
   ],
   "source": [
    "full_data = pl.read_csv(\"full_emdat.csv\", ignore_errors=True).filter(pl.col(\"Start Year\") >= 1970).filter(pl.col(\"Start Year\") <= 2021)\n",
    "disaster_costs = full_data.select(pl.col([\"Start Year\", \"Disaster Type\", \"Region\", \"Country\", \"Total Damage, Adjusted ('000 US$)\"]))\n",
    "disaster_costs = disaster_costs.drop_nulls(subset=pl.col(\"Total Damage, Adjusted ('000 US$)\"))\n",
    "disaster_costs = disaster_costs.rename(\n",
    "    {\"Disaster Type\" : \"disasterType\", \n",
    "     \"Start Year\" : \"Year\",\n",
    "     \"Total Damage, Adjusted ('000 US$)\" : \"Cost ($K)\"\n",
    "    }\n",
    ")\n",
    "\n",
    "disaster_costs"
   ]
  }
 ],
 "metadata": {
  "kernelspec": {
   "display_name": "Python 3",
   "language": "python",
   "name": "python3"
  },
  "language_info": {
   "codemirror_mode": {
    "name": "ipython",
    "version": 3
   },
   "file_extension": ".py",
   "mimetype": "text/x-python",
   "name": "python",
   "nbconvert_exporter": "python",
   "pygments_lexer": "ipython3",
   "version": "3.11.5"
  },
  "orig_nbformat": 4
 },
 "nbformat": 4,
 "nbformat_minor": 2
}
