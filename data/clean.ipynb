{
 "cells": [
  {
   "cell_type": "code",
   "execution_count": 2,
   "metadata": {},
   "outputs": [],
   "source": [
    "import polars as pl\n",
    "import polars.selectors as cs"
   ]
  },
  {
   "cell_type": "code",
   "execution_count": 3,
   "metadata": {},
   "outputs": [
    {
     "data": {
      "text/html": [
       "<div><style>\n",
       ".dataframe > thead > tr,\n",
       ".dataframe > tbody > tr {\n",
       "  text-align: right;\n",
       "  white-space: pre-wrap;\n",
       "}\n",
       "</style>\n",
       "<small>shape: (5, 47)</small><table border=\"1\" class=\"dataframe\"><thead><tr><th>Dis No</th><th>Year</th><th>Seq</th><th>Glide</th><th>Disaster Group</th><th>Disaster Subgroup</th><th>disasterType</th><th>Disaster Subtype</th><th>Disaster Subsubtype</th><th>Event Name</th><th>Country</th><th>ISO</th><th>Region</th><th>Continent</th><th>Location</th><th>Origin</th><th>Associated Dis</th><th>Associated Dis2</th><th>OFDA Response</th><th>Appeal</th><th>Declaration</th><th>Aid Contribution</th><th>Dis Mag Value</th><th>Dis Mag Scale</th><th>Latitude</th><th>Longitude</th><th>Local Time</th><th>River Basin</th><th>Start Year</th><th>Start Month</th><th>Start Day</th><th>End Year</th><th>End Month</th><th>End Day</th><th>Total Deaths</th><th>No Injured</th><th>No Affected</th><th>No Homeless</th><th>Total Affected</th><th>Reconstruction Costs (&#x27;000 US$)</th><th>Insured Damages (&#x27;000 US$)</th><th>Total Damages (&#x27;000 US$)</th><th>CPI</th><th>Adm Level</th><th>Admin1 Code</th><th>Admin2 Code</th><th>Geo Locations</th></tr><tr><td>str</td><td>i64</td><td>i64</td><td>str</td><td>str</td><td>str</td><td>str</td><td>str</td><td>str</td><td>str</td><td>str</td><td>str</td><td>str</td><td>str</td><td>str</td><td>str</td><td>str</td><td>str</td><td>str</td><td>str</td><td>str</td><td>str</td><td>i64</td><td>str</td><td>f64</td><td>f64</td><td>str</td><td>str</td><td>i64</td><td>i64</td><td>i64</td><td>i64</td><td>i64</td><td>i64</td><td>i64</td><td>i64</td><td>i64</td><td>i64</td><td>i64</td><td>str</td><td>str</td><td>i64</td><td>f64</td><td>i64</td><td>str</td><td>i64</td><td>str</td></tr></thead><tbody><tr><td>&quot;1970-0013-ARG&quot;</td><td>1970</td><td>13</td><td>null</td><td>&quot;Natural&quot;</td><td>&quot;Hydrological&quot;</td><td>&quot;Flood&quot;</td><td>null</td><td>null</td><td>null</td><td>&quot;Argentina&quot;</td><td>&quot;ARG&quot;</td><td>&quot;South America&quot;</td><td>&quot;Americas&quot;</td><td>&quot;Mendoza&quot;</td><td>null</td><td>null</td><td>null</td><td>null</td><td>null</td><td>null</td><td>null</td><td>null</td><td>&quot;Km2&quot;</td><td>null</td><td>null</td><td>null</td><td>null</td><td>1970</td><td>1</td><td>4</td><td>1970</td><td>1</td><td>4</td><td>36</td><td>null</td><td>null</td><td>null</td><td>null</td><td>null</td><td>null</td><td>25000</td><td>15.001282</td><td>null</td><td>null</td><td>null</td><td>null</td></tr><tr><td>&quot;1970-0109-AUS&quot;</td><td>1970</td><td>109</td><td>null</td><td>&quot;Natural&quot;</td><td>&quot;Meteorological&quot;</td><td>&quot;Storm&quot;</td><td>&quot;Tropical cyclone&quot;</td><td>null</td><td>&quot;Ada&quot;</td><td>&quot;Australia&quot;</td><td>&quot;AUS&quot;</td><td>&quot;Australia and New Zealand&quot;</td><td>&quot;Oceania&quot;</td><td>&quot;Queensland&quot;</td><td>null</td><td>null</td><td>null</td><td>null</td><td>null</td><td>null</td><td>null</td><td>null</td><td>&quot;Kph&quot;</td><td>null</td><td>null</td><td>null</td><td>null</td><td>1970</td><td>1</td><td>null</td><td>1970</td><td>1</td><td>null</td><td>13</td><td>null</td><td>null</td><td>null</td><td>null</td><td>null</td><td>null</td><td>72475</td><td>15.001282</td><td>null</td><td>null</td><td>null</td><td>null</td></tr><tr><td>&quot;1970-0044-BEN&quot;</td><td>1970</td><td>44</td><td>null</td><td>&quot;Natural&quot;</td><td>&quot;Hydrological&quot;</td><td>&quot;Flood&quot;</td><td>null</td><td>null</td><td>null</td><td>&quot;Benin&quot;</td><td>&quot;BEN&quot;</td><td>&quot;Western Africa&quot;</td><td>&quot;Africa&quot;</td><td>&quot;Atacora region&quot;</td><td>null</td><td>null</td><td>null</td><td>&quot;Yes&quot;</td><td>null</td><td>null</td><td>null</td><td>null</td><td>&quot;Km2&quot;</td><td>null</td><td>null</td><td>null</td><td>null</td><td>1970</td><td>9</td><td>null</td><td>1970</td><td>9</td><td>null</td><td>null</td><td>null</td><td>null</td><td>null</td><td>null</td><td>null</td><td>null</td><td>200</td><td>15.001282</td><td>null</td><td>null</td><td>null</td><td>null</td></tr><tr><td>&quot;1970-0063-BGD&quot;</td><td>1970</td><td>63</td><td>null</td><td>&quot;Natural&quot;</td><td>&quot;Meteorological&quot;</td><td>&quot;Storm&quot;</td><td>&quot;Tropical cyclone&quot;</td><td>null</td><td>null</td><td>&quot;Bangladesh&quot;</td><td>&quot;BGD&quot;</td><td>&quot;Southern Asia&quot;</td><td>&quot;Asia&quot;</td><td>&quot;Khulna, Chittagong&quot;</td><td>null</td><td>null</td><td>null</td><td>&quot;Yes&quot;</td><td>null</td><td>null</td><td>null</td><td>null</td><td>&quot;Kph&quot;</td><td>null</td><td>null</td><td>null</td><td>null</td><td>1970</td><td>11</td><td>12</td><td>1970</td><td>11</td><td>12</td><td>300000</td><td>null</td><td>3648000</td><td>null</td><td>3648000</td><td>null</td><td>null</td><td>86400</td><td>15.001282</td><td>null</td><td>null</td><td>null</td><td>null</td></tr><tr><td>&quot;1970-0026-BGD&quot;</td><td>1970</td><td>26</td><td>null</td><td>&quot;Natural&quot;</td><td>&quot;Meteorological&quot;</td><td>&quot;Storm&quot;</td><td>null</td><td>null</td><td>null</td><td>&quot;Bangladesh&quot;</td><td>&quot;BGD&quot;</td><td>&quot;Southern Asia&quot;</td><td>&quot;Asia&quot;</td><td>null</td><td>null</td><td>null</td><td>null</td><td>null</td><td>null</td><td>null</td><td>null</td><td>null</td><td>&quot;Kph&quot;</td><td>null</td><td>null</td><td>null</td><td>null</td><td>1970</td><td>4</td><td>13</td><td>1970</td><td>4</td><td>13</td><td>17</td><td>null</td><td>110</td><td>null</td><td>110</td><td>null</td><td>null</td><td>null</td><td>15.001282</td><td>null</td><td>null</td><td>null</td><td>null</td></tr></tbody></table></div>"
      ],
      "text/plain": [
       "shape: (5, 47)\n",
       "┌───────────────┬──────┬─────┬───────┬───┬───────────┬─────────────┬─────────────┬───────────────┐\n",
       "│ Dis No        ┆ Year ┆ Seq ┆ Glide ┆ … ┆ Adm Level ┆ Admin1 Code ┆ Admin2 Code ┆ Geo Locations │\n",
       "│ ---           ┆ ---  ┆ --- ┆ ---   ┆   ┆ ---       ┆ ---         ┆ ---         ┆ ---           │\n",
       "│ str           ┆ i64  ┆ i64 ┆ str   ┆   ┆ i64       ┆ str         ┆ i64         ┆ str           │\n",
       "╞═══════════════╪══════╪═════╪═══════╪═══╪═══════════╪═════════════╪═════════════╪═══════════════╡\n",
       "│ 1970-0013-ARG ┆ 1970 ┆ 13  ┆ null  ┆ … ┆ null      ┆ null        ┆ null        ┆ null          │\n",
       "│ 1970-0109-AUS ┆ 1970 ┆ 109 ┆ null  ┆ … ┆ null      ┆ null        ┆ null        ┆ null          │\n",
       "│ 1970-0044-BEN ┆ 1970 ┆ 44  ┆ null  ┆ … ┆ null      ┆ null        ┆ null        ┆ null          │\n",
       "│ 1970-0063-BGD ┆ 1970 ┆ 63  ┆ null  ┆ … ┆ null      ┆ null        ┆ null        ┆ null          │\n",
       "│ 1970-0026-BGD ┆ 1970 ┆ 26  ┆ null  ┆ … ┆ null      ┆ null        ┆ null        ┆ null          │\n",
       "└───────────────┴──────┴─────┴───────┴───┴───────────┴─────────────┴─────────────┴───────────────┘"
      ]
     },
     "execution_count": 3,
     "metadata": {},
     "output_type": "execute_result"
    }
   ],
   "source": [
    "disasters = pl.read_csv(\"1970-2021_DISASTERS.csv\", ignore_errors=True).rename(\n",
    "        {\"Disaster Type\" : \"disasterType\"})\n",
    "\n",
    "disasters.head()\n"
   ]
  },
  {
   "cell_type": "code",
   "execution_count": 4,
   "metadata": {},
   "outputs": [
    {
     "data": {
      "text/html": [
       "<div><style>\n",
       ".dataframe > thead > tr,\n",
       ".dataframe > tbody > tr {\n",
       "  text-align: right;\n",
       "  white-space: pre-wrap;\n",
       "}\n",
       "</style>\n",
       "<small>shape: (314, 4)</small><table border=\"1\" class=\"dataframe\"><thead><tr><th>Year</th><th>Country</th><th>disasterType</th><th>len</th></tr><tr><td>i64</td><td>str</td><td>str</td><td>u32</td></tr></thead><tbody><tr><td>1971</td><td>&quot;Canada&quot;</td><td>&quot;Other&quot;</td><td>1</td></tr><tr><td>1975</td><td>&quot;Costa Rica&quot;</td><td>&quot;Other&quot;</td><td>1</td></tr><tr><td>1975</td><td>&quot;Ecuador&quot;</td><td>&quot;Other&quot;</td><td>2</td></tr><tr><td>1976</td><td>&quot;Costa Rica&quot;</td><td>&quot;Other&quot;</td><td>1</td></tr><tr><td>1976</td><td>&quot;Ecuador&quot;</td><td>&quot;Other&quot;</td><td>1</td></tr><tr><td>&hellip;</td><td>&hellip;</td><td>&hellip;</td><td>&hellip;</td></tr><tr><td>2021</td><td>&quot;Philippines (the)&quot;</td><td>&quot;Other&quot;</td><td>1</td></tr><tr><td>2021</td><td>&quot;Canary Is&quot;</td><td>&quot;Other&quot;</td><td>1</td></tr><tr><td>2019</td><td>&quot;Uganda&quot;</td><td>&quot;Other&quot;</td><td>1</td></tr><tr><td>2021</td><td>&quot;Congo (the Democratic Republic…</td><td>&quot;Other&quot;</td><td>1</td></tr><tr><td>2021</td><td>&quot;Saint Vincent and the Grenadin…</td><td>&quot;Other&quot;</td><td>1</td></tr></tbody></table></div>"
      ],
      "text/plain": [
       "shape: (314, 4)\n",
       "┌──────┬─────────────────────────────────┬──────────────┬─────┐\n",
       "│ Year ┆ Country                         ┆ disasterType ┆ len │\n",
       "│ ---  ┆ ---                             ┆ ---          ┆ --- │\n",
       "│ i64  ┆ str                             ┆ str          ┆ u32 │\n",
       "╞══════╪═════════════════════════════════╪══════════════╪═════╡\n",
       "│ 1971 ┆ Canada                          ┆ Other        ┆ 1   │\n",
       "│ 1975 ┆ Costa Rica                      ┆ Other        ┆ 1   │\n",
       "│ 1975 ┆ Ecuador                         ┆ Other        ┆ 2   │\n",
       "│ 1976 ┆ Costa Rica                      ┆ Other        ┆ 1   │\n",
       "│ 1976 ┆ Ecuador                         ┆ Other        ┆ 1   │\n",
       "│ …    ┆ …                               ┆ …            ┆ …   │\n",
       "│ 2021 ┆ Philippines (the)               ┆ Other        ┆ 1   │\n",
       "│ 2021 ┆ Canary Is                       ┆ Other        ┆ 1   │\n",
       "│ 2019 ┆ Uganda                          ┆ Other        ┆ 1   │\n",
       "│ 2021 ┆ Congo (the Democratic Republic… ┆ Other        ┆ 1   │\n",
       "│ 2021 ┆ Saint Vincent and the Grenadin… ┆ Other        ┆ 1   │\n",
       "└──────┴─────────────────────────────────┴──────────────┴─────┘"
      ]
     },
     "execution_count": 4,
     "metadata": {},
     "output_type": "execute_result"
    }
   ],
   "source": [
    "annual_country_freq = disasters.select(\n",
    "    [\"Year\", \"disasterType\", \"Country\"]\n",
    "    ).group_by([\"Year\", \"Country\", \"disasterType\"], maintain_order=True).len()\n",
    "\n",
    "# group least frequent disaster types into \"other category\"\n",
    "least_freq = annual_country_freq.group_by(\"disasterType\").sum().sort(\"len\")[:6].select(\"disasterType\")\n",
    "least_freq = least_freq.to_series().to_list()\n",
    "annual_country_freq = annual_country_freq.with_columns(disasterType = pl.col(\"disasterType\").replace(least_freq, [\"Other\"] * 6 ))\n",
    "annual_country_freq.filter(pl.col(\"disasterType\") == \"Other\")\n"
   ]
  },
  {
   "cell_type": "code",
   "execution_count": 15,
   "metadata": {},
   "outputs": [
    {
     "data": {
      "text/html": [
       "<div><style>\n",
       ".dataframe > thead > tr,\n",
       ".dataframe > tbody > tr {\n",
       "  text-align: right;\n",
       "  white-space: pre-wrap;\n",
       "}\n",
       "</style>\n",
       "<small>shape: (460, 4)</small><table border=\"1\" class=\"dataframe\"><thead><tr><th>Year</th><th>disasterType</th><th>len</th><th>compkey</th></tr><tr><td>i64</td><td>str</td><td>u32</td><td>str</td></tr></thead><tbody><tr><td>1970</td><td>&quot;Flood&quot;</td><td>31</td><td>&quot;1970Flood&quot;</td></tr><tr><td>1970</td><td>&quot;Storm&quot;</td><td>24</td><td>&quot;1970Storm&quot;</td></tr><tr><td>1970</td><td>&quot;Drought&quot;</td><td>2</td><td>&quot;1970Drought&quot;</td></tr><tr><td>1970</td><td>&quot;Landslide&quot;</td><td>6</td><td>&quot;1970Landslide&quot;</td></tr><tr><td>1970</td><td>&quot;Earthquake&quot;</td><td>12</td><td>&quot;1970Earthquake&quot;</td></tr><tr><td>&hellip;</td><td>&hellip;</td><td>&hellip;</td><td>&hellip;</td></tr><tr><td>2021</td><td>&quot;Landslide&quot;</td><td>10</td><td>&quot;2021Landslide&quot;</td></tr><tr><td>2021</td><td>&quot;Earthquake&quot;</td><td>19</td><td>&quot;2021Earthquake&quot;</td></tr><tr><td>2021</td><td>&quot;Other&quot;</td><td>10</td><td>&quot;2021Other&quot;</td></tr><tr><td>2020</td><td>&quot;Epidemic&quot;</td><td>6</td><td>&quot;2020Epidemic&quot;</td></tr><tr><td>2021</td><td>&quot;Epidemic&quot;</td><td>5</td><td>&quot;2021Epidemic&quot;</td></tr></tbody></table></div>"
      ],
      "text/plain": [
       "shape: (460, 4)\n",
       "┌──────┬──────────────┬─────┬────────────────┐\n",
       "│ Year ┆ disasterType ┆ len ┆ compkey        │\n",
       "│ ---  ┆ ---          ┆ --- ┆ ---            │\n",
       "│ i64  ┆ str          ┆ u32 ┆ str            │\n",
       "╞══════╪══════════════╪═════╪════════════════╡\n",
       "│ 1970 ┆ Flood        ┆ 31  ┆ 1970Flood      │\n",
       "│ 1970 ┆ Storm        ┆ 24  ┆ 1970Storm      │\n",
       "│ 1970 ┆ Drought      ┆ 2   ┆ 1970Drought    │\n",
       "│ 1970 ┆ Landslide    ┆ 6   ┆ 1970Landslide  │\n",
       "│ 1970 ┆ Earthquake   ┆ 12  ┆ 1970Earthquake │\n",
       "│ …    ┆ …            ┆ …   ┆ …              │\n",
       "│ 2021 ┆ Landslide    ┆ 10  ┆ 2021Landslide  │\n",
       "│ 2021 ┆ Earthquake   ┆ 19  ┆ 2021Earthquake │\n",
       "│ 2021 ┆ Other        ┆ 10  ┆ 2021Other      │\n",
       "│ 2020 ┆ Epidemic     ┆ 6   ┆ 2020Epidemic   │\n",
       "│ 2021 ┆ Epidemic     ┆ 5   ┆ 2021Epidemic   │\n",
       "└──────┴──────────────┴─────┴────────────────┘"
      ]
     },
     "execution_count": 15,
     "metadata": {},
     "output_type": "execute_result"
    }
   ],
   "source": [
    "# consolidate least frequent disaster types into Other category\n",
    "annual_frequencies = disasters.with_columns(\\\n",
    "    disasterType = pl.col(\"disasterType\").replace(least_freq, [\"Other\"] * 6 ))\n",
    "\n",
    "annual_frequencies = annual_frequencies.select(\n",
    "    [\"Year\", \"disasterType\"]\n",
    "    ).group_by([\"Year\", \"disasterType\"], maintain_order=True).len()\n",
    "\n",
    "annual_frequencies = annual_frequencies.with_columns(pl.concat_str([pl.col(\"Year\"), pl.col(\"disasterType\")]).alias(\"compkey\"))\n",
    "\n",
    "annual_frequencies\n"
   ]
  }
 ],
 "metadata": {
  "kernelspec": {
   "display_name": "Python 3",
   "language": "python",
   "name": "python3"
  },
  "language_info": {
   "codemirror_mode": {
    "name": "ipython",
    "version": 3
   },
   "file_extension": ".py",
   "mimetype": "text/x-python",
   "name": "python",
   "nbconvert_exporter": "python",
   "pygments_lexer": "ipython3",
   "version": "3.11.5"
  },
  "orig_nbformat": 4
 },
 "nbformat": 4,
 "nbformat_minor": 2
}
