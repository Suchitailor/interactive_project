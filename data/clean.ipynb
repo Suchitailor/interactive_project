{
 "cells": [
  {
   "cell_type": "code",
   "execution_count": 2,
   "metadata": {},
   "outputs": [],
   "source": [
    "import polars as pl\n",
    "import polars.selectors as cs"
   ]
  },
  {
   "cell_type": "code",
   "execution_count": 19,
   "metadata": {},
   "outputs": [
    {
     "name": "stdout",
     "output_type": "stream",
     "text": [
      "Total death Columns: shape: (1, 1)\n",
      "┌──────────────┐\n",
      "│ Total Deaths │\n",
      "│ ---          │\n",
      "│ u32          │\n",
      "╞══════════════╡\n",
      "│ 10199        │\n",
      "└──────────────┘\n",
      "Total Damages Columns: shape: (1, 1)\n",
      "┌──────────────────────────┐\n",
      "│ Total Damages ('000 US$) │\n",
      "│ ---                      │\n",
      "│ u32                      │\n",
      "╞══════════════════════════╡\n",
      "│ 4863                     │\n",
      "└──────────────────────────┘\n"
     ]
    }
   ],
   "source": [
    "disasters = pl.read_csv(\"1970-2021_DISASTERS.csv\", ignore_errors=True).rename(\n",
    "        {\"Disaster Type\" : \"disasterType\"})\n",
    "\n",
    "print(\"Total death Columns:\", disasters.select(pl.count(\"Total Deaths\")))\n",
    "print(\"Total Damages Columns:\", disasters.select(pl.count(\"Total Damages ('000 US$)\")))\n"
   ]
  },
  {
   "cell_type": "code",
   "execution_count": null,
   "metadata": {},
   "outputs": [],
   "source": []
  },
  {
   "cell_type": "code",
   "execution_count": 4,
   "metadata": {},
   "outputs": [
    {
     "data": {
      "text/html": [
       "<div><style>\n",
       ".dataframe > thead > tr,\n",
       ".dataframe > tbody > tr {\n",
       "  text-align: right;\n",
       "  white-space: pre-wrap;\n",
       "}\n",
       "</style>\n",
       "<small>shape: (314, 4)</small><table border=\"1\" class=\"dataframe\"><thead><tr><th>Year</th><th>Country</th><th>disasterType</th><th>len</th></tr><tr><td>i64</td><td>str</td><td>str</td><td>u32</td></tr></thead><tbody><tr><td>1971</td><td>&quot;Canada&quot;</td><td>&quot;Other&quot;</td><td>1</td></tr><tr><td>1975</td><td>&quot;Costa Rica&quot;</td><td>&quot;Other&quot;</td><td>1</td></tr><tr><td>1975</td><td>&quot;Ecuador&quot;</td><td>&quot;Other&quot;</td><td>2</td></tr><tr><td>1976</td><td>&quot;Costa Rica&quot;</td><td>&quot;Other&quot;</td><td>1</td></tr><tr><td>1976</td><td>&quot;Ecuador&quot;</td><td>&quot;Other&quot;</td><td>1</td></tr><tr><td>&hellip;</td><td>&hellip;</td><td>&hellip;</td><td>&hellip;</td></tr><tr><td>2021</td><td>&quot;Philippines (the)&quot;</td><td>&quot;Other&quot;</td><td>1</td></tr><tr><td>2021</td><td>&quot;Canary Is&quot;</td><td>&quot;Other&quot;</td><td>1</td></tr><tr><td>2019</td><td>&quot;Uganda&quot;</td><td>&quot;Other&quot;</td><td>1</td></tr><tr><td>2021</td><td>&quot;Congo (the Democratic Republic…</td><td>&quot;Other&quot;</td><td>1</td></tr><tr><td>2021</td><td>&quot;Saint Vincent and the Grenadin…</td><td>&quot;Other&quot;</td><td>1</td></tr></tbody></table></div>"
      ],
      "text/plain": [
       "shape: (314, 4)\n",
       "┌──────┬─────────────────────────────────┬──────────────┬─────┐\n",
       "│ Year ┆ Country                         ┆ disasterType ┆ len │\n",
       "│ ---  ┆ ---                             ┆ ---          ┆ --- │\n",
       "│ i64  ┆ str                             ┆ str          ┆ u32 │\n",
       "╞══════╪═════════════════════════════════╪══════════════╪═════╡\n",
       "│ 1971 ┆ Canada                          ┆ Other        ┆ 1   │\n",
       "│ 1975 ┆ Costa Rica                      ┆ Other        ┆ 1   │\n",
       "│ 1975 ┆ Ecuador                         ┆ Other        ┆ 2   │\n",
       "│ 1976 ┆ Costa Rica                      ┆ Other        ┆ 1   │\n",
       "│ 1976 ┆ Ecuador                         ┆ Other        ┆ 1   │\n",
       "│ …    ┆ …                               ┆ …            ┆ …   │\n",
       "│ 2021 ┆ Philippines (the)               ┆ Other        ┆ 1   │\n",
       "│ 2021 ┆ Canary Is                       ┆ Other        ┆ 1   │\n",
       "│ 2019 ┆ Uganda                          ┆ Other        ┆ 1   │\n",
       "│ 2021 ┆ Congo (the Democratic Republic… ┆ Other        ┆ 1   │\n",
       "│ 2021 ┆ Saint Vincent and the Grenadin… ┆ Other        ┆ 1   │\n",
       "└──────┴─────────────────────────────────┴──────────────┴─────┘"
      ]
     },
     "execution_count": 4,
     "metadata": {},
     "output_type": "execute_result"
    }
   ],
   "source": [
    "annual_country_freq = disasters.select(\n",
    "    [\"Year\", \"disasterType\", \"Country\"]\n",
    "    ).group_by([\"Year\", \"Country\", \"disasterType\"], maintain_order=True).len()\n",
    "\n",
    "# group least frequent disaster types into \"other category\"\n",
    "least_freq = annual_country_freq.group_by(\"disasterType\").sum().sort(\"len\")[:6].select(\"disasterType\")\n",
    "least_freq = least_freq.to_series().to_list()\n",
    "annual_country_freq = annual_country_freq.with_columns(disasterType = pl.col(\"disasterType\").replace(least_freq, [\"Other\"] * 6 ))\n",
    "annual_country_freq.filter(pl.col(\"disasterType\") == \"Other\")\n"
   ]
  },
  {
   "cell_type": "code",
   "execution_count": 15,
   "metadata": {},
   "outputs": [
    {
     "data": {
      "text/html": [
       "<div><style>\n",
       ".dataframe > thead > tr,\n",
       ".dataframe > tbody > tr {\n",
       "  text-align: right;\n",
       "  white-space: pre-wrap;\n",
       "}\n",
       "</style>\n",
       "<small>shape: (460, 4)</small><table border=\"1\" class=\"dataframe\"><thead><tr><th>Year</th><th>disasterType</th><th>len</th><th>compkey</th></tr><tr><td>i64</td><td>str</td><td>u32</td><td>str</td></tr></thead><tbody><tr><td>1970</td><td>&quot;Flood&quot;</td><td>31</td><td>&quot;1970Flood&quot;</td></tr><tr><td>1970</td><td>&quot;Storm&quot;</td><td>24</td><td>&quot;1970Storm&quot;</td></tr><tr><td>1970</td><td>&quot;Drought&quot;</td><td>2</td><td>&quot;1970Drought&quot;</td></tr><tr><td>1970</td><td>&quot;Landslide&quot;</td><td>6</td><td>&quot;1970Landslide&quot;</td></tr><tr><td>1970</td><td>&quot;Earthquake&quot;</td><td>12</td><td>&quot;1970Earthquake&quot;</td></tr><tr><td>&hellip;</td><td>&hellip;</td><td>&hellip;</td><td>&hellip;</td></tr><tr><td>2021</td><td>&quot;Landslide&quot;</td><td>10</td><td>&quot;2021Landslide&quot;</td></tr><tr><td>2021</td><td>&quot;Earthquake&quot;</td><td>19</td><td>&quot;2021Earthquake&quot;</td></tr><tr><td>2021</td><td>&quot;Other&quot;</td><td>10</td><td>&quot;2021Other&quot;</td></tr><tr><td>2020</td><td>&quot;Epidemic&quot;</td><td>6</td><td>&quot;2020Epidemic&quot;</td></tr><tr><td>2021</td><td>&quot;Epidemic&quot;</td><td>5</td><td>&quot;2021Epidemic&quot;</td></tr></tbody></table></div>"
      ],
      "text/plain": [
       "shape: (460, 4)\n",
       "┌──────┬──────────────┬─────┬────────────────┐\n",
       "│ Year ┆ disasterType ┆ len ┆ compkey        │\n",
       "│ ---  ┆ ---          ┆ --- ┆ ---            │\n",
       "│ i64  ┆ str          ┆ u32 ┆ str            │\n",
       "╞══════╪══════════════╪═════╪════════════════╡\n",
       "│ 1970 ┆ Flood        ┆ 31  ┆ 1970Flood      │\n",
       "│ 1970 ┆ Storm        ┆ 24  ┆ 1970Storm      │\n",
       "│ 1970 ┆ Drought      ┆ 2   ┆ 1970Drought    │\n",
       "│ 1970 ┆ Landslide    ┆ 6   ┆ 1970Landslide  │\n",
       "│ 1970 ┆ Earthquake   ┆ 12  ┆ 1970Earthquake │\n",
       "│ …    ┆ …            ┆ …   ┆ …              │\n",
       "│ 2021 ┆ Landslide    ┆ 10  ┆ 2021Landslide  │\n",
       "│ 2021 ┆ Earthquake   ┆ 19  ┆ 2021Earthquake │\n",
       "│ 2021 ┆ Other        ┆ 10  ┆ 2021Other      │\n",
       "│ 2020 ┆ Epidemic     ┆ 6   ┆ 2020Epidemic   │\n",
       "│ 2021 ┆ Epidemic     ┆ 5   ┆ 2021Epidemic   │\n",
       "└──────┴──────────────┴─────┴────────────────┘"
      ]
     },
     "execution_count": 15,
     "metadata": {},
     "output_type": "execute_result"
    }
   ],
   "source": [
    "# consolidate least frequent disaster types into Other category\n",
    "annual_frequencies = disasters.with_columns(\\\n",
    "    disasterType = pl.col(\"disasterType\").replace(least_freq, [\"Other\"] * 6 ))\n",
    "\n",
    "annual_frequencies = annual_frequencies.select(\n",
    "    [\"Year\", \"disasterType\"]\n",
    "    ).group_by([\"Year\", \"disasterType\"], maintain_order=True).len()\n",
    "\n",
    "annual_frequencies = annual_frequencies.with_columns(pl.concat_str([pl.col(\"Year\"), pl.col(\"disasterType\")]).alias(\"compkey\"))\n",
    "\n",
    "annual_frequencies\n"
   ]
  },
  {
   "cell_type": "code",
   "execution_count": 34,
   "metadata": {},
   "outputs": [
    {
     "data": {
      "text/html": [
       "<div><style>\n",
       ".dataframe > thead > tr,\n",
       ".dataframe > tbody > tr {\n",
       "  text-align: right;\n",
       "  white-space: pre-wrap;\n",
       "}\n",
       "</style>\n",
       "<small>shape: (584, 4)</small><table border=\"1\" class=\"dataframe\"><thead><tr><th>disasterType</th><th>Code</th><th>Year</th><th>Total economic damages</th></tr><tr><td>str</td><td>str</td><td>i64</td><td>i64</td></tr></thead><tbody><tr><td>&quot;All disasters&quot;</td><td>null</td><td>1970</td><td>3117534486</td></tr><tr><td>&quot;All disasters&quot;</td><td>null</td><td>1971</td><td>1747369467</td></tr><tr><td>&quot;All disasters&quot;</td><td>null</td><td>1972</td><td>4334055447</td></tr><tr><td>&quot;All disasters&quot;</td><td>null</td><td>1973</td><td>2426476263</td></tr><tr><td>&quot;All disasters&quot;</td><td>null</td><td>1974</td><td>4064924487</td></tr><tr><td>&hellip;</td><td>&hellip;</td><td>&hellip;</td><td>&hellip;</td></tr><tr><td>&quot;Wildfire&quot;</td><td>null</td><td>2017</td><td>16921999488</td></tr><tr><td>&quot;Wildfire&quot;</td><td>null</td><td>2018</td><td>22801999744</td></tr><tr><td>&quot;Wildfire&quot;</td><td>null</td><td>2019</td><td>3071659340</td></tr><tr><td>&quot;Wildfire&quot;</td><td>null</td><td>2020</td><td>11831341172</td></tr><tr><td>&quot;Wildfire&quot;</td><td>null</td><td>2021</td><td>8153912000</td></tr></tbody></table></div>"
      ],
      "text/plain": [
       "shape: (584, 4)\n",
       "┌───────────────┬──────┬──────┬────────────────────────┐\n",
       "│ disasterType  ┆ Code ┆ Year ┆ Total economic damages │\n",
       "│ ---           ┆ ---  ┆ ---  ┆ ---                    │\n",
       "│ str           ┆ str  ┆ i64  ┆ i64                    │\n",
       "╞═══════════════╪══════╪══════╪════════════════════════╡\n",
       "│ All disasters ┆ null ┆ 1970 ┆ 3117534486             │\n",
       "│ All disasters ┆ null ┆ 1971 ┆ 1747369467             │\n",
       "│ All disasters ┆ null ┆ 1972 ┆ 4334055447             │\n",
       "│ All disasters ┆ null ┆ 1973 ┆ 2426476263             │\n",
       "│ All disasters ┆ null ┆ 1974 ┆ 4064924487             │\n",
       "│ …             ┆ …    ┆ …    ┆ …                      │\n",
       "│ Wildfire      ┆ null ┆ 2017 ┆ 16921999488            │\n",
       "│ Wildfire      ┆ null ┆ 2018 ┆ 22801999744            │\n",
       "│ Wildfire      ┆ null ┆ 2019 ┆ 3071659340             │\n",
       "│ Wildfire      ┆ null ┆ 2020 ┆ 11831341172            │\n",
       "│ Wildfire      ┆ null ┆ 2021 ┆ 8153912000             │\n",
       "└───────────────┴──────┴──────┴────────────────────────┘"
      ]
     },
     "execution_count": 34,
     "metadata": {},
     "output_type": "execute_result"
    }
   ],
   "source": [
    "disaster_costs = pl.read_csv(\"disaster_costs.csv\").rename(\n",
    "        {\"Entity\" : \"disasterType\"})\n",
    "disaster_costs = disaster_costs.with_columns(disasterType = pl.col(\"disasterType\").replace(least_freq, [\"Other\"] * 6 ))\n",
    "disaster_costs = disaster_costs.filter(pl.col(\"Year\") >= 1970).filter(pl.col(\"Year\") <= 2021)\n",
    "\n",
    "disaster_costs"
   ]
  },
  {
   "cell_type": "code",
   "execution_count": 45,
   "metadata": {},
   "outputs": [
    {
     "data": {
      "text/html": [
       "<div><style>\n",
       ".dataframe > thead > tr,\n",
       ".dataframe > tbody > tr {\n",
       "  text-align: right;\n",
       "  white-space: pre-wrap;\n",
       "}\n",
       "</style>\n",
       "<small>shape: (4_893, 5)</small><table border=\"1\" class=\"dataframe\"><thead><tr><th>Year</th><th>disasterType</th><th>Region</th><th>Country</th><th>Cost ($K)</th></tr><tr><td>i64</td><td>str</td><td>str</td><td>str</td><td>i64</td></tr></thead><tbody><tr><td>1971</td><td>&quot;Drought&quot;</td><td>&quot;Africa&quot;</td><td>&quot;Gambia&quot;</td><td>1505</td></tr><tr><td>1970</td><td>&quot;Flood&quot;</td><td>&quot;Africa&quot;</td><td>&quot;Morocco&quot;</td><td>235442</td></tr><tr><td>1970</td><td>&quot;Flood&quot;</td><td>&quot;Americas&quot;</td><td>&quot;Peru&quot;</td><td>40810</td></tr><tr><td>1970</td><td>&quot;Flood&quot;</td><td>&quot;Americas&quot;</td><td>&quot;Argentina&quot;</td><td>196202</td></tr><tr><td>1970</td><td>&quot;Storm&quot;</td><td>&quot;Africa&quot;</td><td>&quot;Madagascar&quot;</td><td>89468</td></tr><tr><td>&hellip;</td><td>&hellip;</td><td>&hellip;</td><td>&hellip;</td><td>&hellip;</td></tr><tr><td>2021</td><td>&quot;Wildfire&quot;</td><td>&quot;Americas&quot;</td><td>&quot;United States of America&quot;</td><td>3710805</td></tr><tr><td>2021</td><td>&quot;Flood&quot;</td><td>&quot;Asia&quot;</td><td>&quot;Pakistan&quot;</td><td>11245</td></tr><tr><td>2021</td><td>&quot;Drought&quot;</td><td>&quot;Asia&quot;</td><td>&quot;China&quot;</td><td>3485908</td></tr><tr><td>2021</td><td>&quot;Drought&quot;</td><td>&quot;Americas&quot;</td><td>&quot;Brazil&quot;</td><td>3373459</td></tr><tr><td>2021</td><td>&quot;Drought&quot;</td><td>&quot;Americas&quot;</td><td>&quot;United States of America&quot;</td><td>10120377</td></tr></tbody></table></div>"
      ],
      "text/plain": [
       "shape: (4_893, 5)\n",
       "┌──────┬──────────────┬──────────┬──────────────────────────┬───────────┐\n",
       "│ Year ┆ disasterType ┆ Region   ┆ Country                  ┆ Cost ($K) │\n",
       "│ ---  ┆ ---          ┆ ---      ┆ ---                      ┆ ---       │\n",
       "│ i64  ┆ str          ┆ str      ┆ str                      ┆ i64       │\n",
       "╞══════╪══════════════╪══════════╪══════════════════════════╪═══════════╡\n",
       "│ 1971 ┆ Drought      ┆ Africa   ┆ Gambia                   ┆ 1505      │\n",
       "│ 1970 ┆ Flood        ┆ Africa   ┆ Morocco                  ┆ 235442    │\n",
       "│ 1970 ┆ Flood        ┆ Americas ┆ Peru                     ┆ 40810     │\n",
       "│ 1970 ┆ Flood        ┆ Americas ┆ Argentina                ┆ 196202    │\n",
       "│ 1970 ┆ Storm        ┆ Africa   ┆ Madagascar               ┆ 89468     │\n",
       "│ …    ┆ …            ┆ …        ┆ …                        ┆ …         │\n",
       "│ 2021 ┆ Wildfire     ┆ Americas ┆ United States of America ┆ 3710805   │\n",
       "│ 2021 ┆ Flood        ┆ Asia     ┆ Pakistan                 ┆ 11245     │\n",
       "│ 2021 ┆ Drought      ┆ Asia     ┆ China                    ┆ 3485908   │\n",
       "│ 2021 ┆ Drought      ┆ Americas ┆ Brazil                   ┆ 3373459   │\n",
       "│ 2021 ┆ Drought      ┆ Americas ┆ United States of America ┆ 10120377  │\n",
       "└──────┴──────────────┴──────────┴──────────────────────────┴───────────┘"
      ]
     },
     "execution_count": 45,
     "metadata": {},
     "output_type": "execute_result"
    }
   ],
   "source": [
    "full_data = pl.read_csv(\"full_emdat.csv\", ignore_errors=True).filter(pl.col(\"Start Year\") >= 1970).filter(pl.col(\"Start Year\") <= 2021)\n",
    "disaster_costs = full_data.select(pl.col([\"Start Year\", \"Disaster Type\", \"Region\", \"Country\", \"Total Damage, Adjusted ('000 US$)\"]))\n",
    "disaster_costs = disaster_costs.drop_nulls(subset=pl.col(\"Total Damage, Adjusted ('000 US$)\"))\n",
    "disaster_costs = disaster_costs.rename(\n",
    "    {\"Disaster Type\" : \"disasterType\", \n",
    "     \"Start Year\" : \"Year\",\n",
    "     \"Total Damage, Adjusted ('000 US$)\" : \"Cost ($K)\"\n",
    "    }\n",
    ")\n",
    "\n",
    "disaster_costs"
   ]
  }
 ],
 "metadata": {
  "kernelspec": {
   "display_name": "Python 3",
   "language": "python",
   "name": "python3"
  },
  "language_info": {
   "codemirror_mode": {
    "name": "ipython",
    "version": 3
   },
   "file_extension": ".py",
   "mimetype": "text/x-python",
   "name": "python",
   "nbconvert_exporter": "python",
   "pygments_lexer": "ipython3",
   "version": "3.11.5"
  },
  "orig_nbformat": 4
 },
 "nbformat": 4,
 "nbformat_minor": 2
}
